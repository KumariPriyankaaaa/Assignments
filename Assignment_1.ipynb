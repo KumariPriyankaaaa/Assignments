{
 "cells": [
  {
   "cell_type": "markdown",
   "id": "reliable-drill",
   "metadata": {},
   "source": [
    "Q1.#below elements which of them are values or an expression\n",
    "\n",
    "*==========================Expression\n",
    "\n",
    "\"hello\"====================Value\n",
    "\n",
    "-87.8======================Value\n",
    "\n",
    "-  =========================Expressin\n",
    "\n",
    "/ ===========================Expression\n",
    "\n",
    "+ ===========================Expression\n",
    "\n",
    "6 ===========================Value"
   ]
  },
  {
   "cell_type": "markdown",
   "id": "psychological-prairie",
   "metadata": {},
   "source": [
    "Q2.#difference between string and variable\n",
    "Strings is a data type for a a sequence of characters (e.g. \"apple”)\n",
    "Variables are symbols that you can use to store data in a program\n"
   ]
  },
  {
   "cell_type": "markdown",
   "id": "christian-classic",
   "metadata": {},
   "source": [
    "Q3.Data Type=Integer,Float,Boolean\n",
    "1.Integer=Whole numbers example 88,45,700\n",
    "2.Float=Number with a decimal point, example 0.88,9.7,5.8\n",
    "3.Boolean=Representing logical values"
   ]
  },
  {
   "cell_type": "markdown",
   "id": "floral-paper",
   "metadata": {},
   "source": [
    "Q4.An expression is a construct made up of variables, operators, and method invocations, which are constructed according to the syntax of the language, that evaluates to a single value.\n",
    "Expressions are representations of value. They are different from statement in the fact that statements do something while expressions are representation of value. For example any string is also an expressions since it represents the value of the string as well."
   ]
  },
  {
   "cell_type": "markdown",
   "id": "olive-recommendation",
   "metadata": {},
   "source": []
  },
  {
   "cell_type": "markdown",
   "id": "overall-banana",
   "metadata": {},
   "source": [
    "Q5.spam = 10.\n",
    "Expressions produce a value, and that value will be passed into the function. Statements don't produce a value, and so they can't be used as function arguments."
   ]
  },
  {
   "cell_type": "code",
   "execution_count": 6,
   "id": "backed-uncertainty",
   "metadata": {},
   "outputs": [
    {
     "data": {
      "text/plain": [
       "23"
      ]
     },
     "execution_count": 6,
     "metadata": {},
     "output_type": "execute_result"
    }
   ],
   "source": [
    "Q6.#After running the following code, what does the variable bacon contain\n",
    "bacon = 22\n",
    "bacon + 1"
   ]
  },
  {
   "cell_type": "code",
   "execution_count": 4,
   "id": "interpreted-administration",
   "metadata": {},
   "outputs": [
    {
     "data": {
      "text/plain": [
       "'spamspamspam'"
      ]
     },
     "execution_count": 4,
     "metadata": {},
     "output_type": "execute_result"
    }
   ],
   "source": [
    "Q7.#values of the following two terms be\n",
    "'spam'+'spamspam'"
   ]
  },
  {
   "cell_type": "code",
   "execution_count": 5,
   "id": "champion-ontario",
   "metadata": {},
   "outputs": [
    {
     "data": {
      "text/plain": [
       "'spamspamspam'"
      ]
     },
     "execution_count": 5,
     "metadata": {},
     "output_type": "execute_result"
    }
   ],
   "source": [
    "'spam'*3"
   ]
  },
  {
   "cell_type": "markdown",
   "id": "personalized-constant",
   "metadata": {},
   "source": [
    "Q8.Eggs a valid variable name while 100 is invalid because Variable names cannot begin with a number.Q"
   ]
  },
  {
   "cell_type": "markdown",
   "id": "restricted-establishment",
   "metadata": {},
   "source": [
    "Q9.The int() , float() , and str( ) functions will evaluate to the integer, floating-point number, and string versions of the value passed to them."
   ]
  },
  {
   "cell_type": "markdown",
   "id": "automotive-habitat",
   "metadata": {},
   "source": [
    "Q10.\"I have eaten\" + 99 +\"burritos.\" This expression will cause an error because string and integer cannot be concanetate. Only String and string & Integer and integer can be added."
   ]
  }
 ],
 "metadata": {
  "kernelspec": {
   "display_name": "Python 3",
   "language": "python",
   "name": "python3"
  },
  "language_info": {
   "codemirror_mode": {
    "name": "ipython",
    "version": 3
   },
   "file_extension": ".py",
   "mimetype": "text/x-python",
   "name": "python",
   "nbconvert_exporter": "python",
   "pygments_lexer": "ipython3",
   "version": "3.9.4"
  }
 },
 "nbformat": 4,
 "nbformat_minor": 5
}
