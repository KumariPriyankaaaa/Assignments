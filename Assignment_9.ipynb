{
 "cells": [
  {
   "cell_type": "markdown",
   "id": "ad9f40ce",
   "metadata": {},
   "source": [
    "#1. To what does a relative path refer?\n",
    "\n",
    "A relative path is a way to specify the location of a directory relative to another directory. For example, suppose your documents are in C:\\Sample\\Documents and your index is in C:\\Sample\\Index. The absolute path for the documents would be C:\\Sample\\Documents.\n"
   ]
  },
  {
   "cell_type": "markdown",
   "id": "d7306163",
   "metadata": {},
   "source": [
    "#2. What does an absolute path start with your operating system?\n",
    "\n",
    "An absolute path is defined as the specifying the location of a file or directory from the root directory(/). In other words we can say absolute path is a complete path from start of actual filesystem from / directory."
   ]
  },
  {
   "cell_type": "markdown",
   "id": "76016719",
   "metadata": {},
   "source": [
    "#3. What do the functions os.getcwd() and os.chdir() do?\n",
    "\n",
    "getcwd() : CWD stands for Current Working Directory. This function allows you to see what your current working directory is. chdir(\"path-to-dir\") : Short for CHange DIRectory, this function allows you to set the current working directory to a path of your choice.\n",
    "\n"
   ]
  },
  {
   "cell_type": "markdown",
   "id": "400a8fe6",
   "metadata": {},
   "source": [
    "#4. What are the . and .. folders?\n",
    "\n",
    "The . is the current directory, while .. signifies the parent directory. It makes things quicker at the command line as well so you don't need to type out full paths.\n",
    "\n"
   ]
  },
  {
   "cell_type": "markdown",
   "id": "fba1c1a4",
   "metadata": {},
   "source": [
    "#5. In C:\\bacon\\eggs\\spam.txt, which part is the dir name, and which part is the base name?\n",
    "\n",
    "C:\\bacon\\eggs is the dir name, while spam. txt is the base name."
   ]
  },
  {
   "cell_type": "markdown",
   "id": "1fa44c4f",
   "metadata": {},
   "source": [
    "#6. What are the three “mode” arguments that can be passed to the open() function?\n",
    "\n",
    "The access modes available for the open() function are as follows:\n",
    "\n",
    "r : Opens the file in read-only mode. \n",
    "\n",
    "rb : Opens the file as read-only in binary format and starts reading from the beginning of the file. \n",
    "\n",
    "r+ : Opens a file for reading and writing, placing the pointer at the beginning of the file."
   ]
  },
  {
   "cell_type": "markdown",
   "id": "52ef86e6",
   "metadata": {},
   "source": [
    "#7. What happens if an existing file is opened in write mode?\n",
    "\n",
    "To open a file in write mode, “w” is specified. When mode “w” is specified, it creates an empty file for output operations. What if the file already exists? If a file with the same name already exists, its contents are discarded and the file is treated as a new empty file."
   ]
  },
  {
   "cell_type": "markdown",
   "id": "50bf4032",
   "metadata": {},
   "source": [
    "#8. How do you tell the difference between read() and readlines()?\n",
    "\n",
    "The read() will read the whole file at once and then print out the first characters that take up as many bytes as you specify in the parenthesis versus the readline() that will read and print out only the first characters that take up as many bytes as you specify in the parenthesis."
   ]
  },
  {
   "cell_type": "markdown",
   "id": "075f3751",
   "metadata": {},
   "source": [
    "#9. What data structure does a shelf value resemble?\n",
    "\n",
    "A shelf value resembles a dictionary value; it has keys and values, along with keys() and values() methods that work similarly to the dictionary methods of the same names."
   ]
  },
  {
   "cell_type": "code",
   "execution_count": null,
   "id": "e906b39b",
   "metadata": {},
   "outputs": [],
   "source": []
  }
 ],
 "metadata": {
  "kernelspec": {
   "display_name": "Python 3",
   "language": "python",
   "name": "python3"
  },
  "language_info": {
   "codemirror_mode": {
    "name": "ipython",
    "version": 3
   },
   "file_extension": ".py",
   "mimetype": "text/x-python",
   "name": "python",
   "nbconvert_exporter": "python",
   "pygments_lexer": "ipython3",
   "version": "3.9.4"
  }
 },
 "nbformat": 4,
 "nbformat_minor": 5
}
