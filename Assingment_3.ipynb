{
 "cells": [
  {
   "cell_type": "markdown",
   "id": "bored-triple",
   "metadata": {},
   "source": [
    "Q1.#Why are functions advantageous to have in your programs?\n",
    "\n",
    "Functions are advantageous to have in your programs because Functions reduce the need for duplicate code. This makes programs shorter, easier to read, and easier to update."
   ]
  },
  {
   "cell_type": "markdown",
   "id": "artificial-mount",
   "metadata": {},
   "source": [
    "Q2.#When does the code in a function run: when it's specified or when it's called?\n",
    "\n",
    "When a function is \"called\" the program \"leaves\" the current section of code and begins to execute the first line inside the function."
   ]
  },
  {
   "cell_type": "markdown",
   "id": "consistent-kazakhstan",
   "metadata": {},
   "source": [
    "Q3.#What statement creates a function?\n",
    "\n",
    "To create a function, we must first declare it and give it a name, the same way we'd create any variable, and then we follow it by a function definition: var sayHello = function() { }; We could put any code inside that function - one statement, multiple statements - depends on what we want to do."
   ]
  },
  {
   "cell_type": "markdown",
   "id": "removed-citizen",
   "metadata": {},
   "source": [
    "Q4.#What is the difference between a function and a function call?\n",
    "\n",
    "A function is a block of code that does a particular operation and returns a result. It usually accepts inputs as parameters and returns a result. The parameters are not mandatory. A function call is the code used to pass control to a function."
   ]
  },
  {
   "cell_type": "markdown",
   "id": "mobile-findings",
   "metadata": {},
   "source": [
    "Q5.#How many global scopes are there in a Python program? How many local scopes?\n",
    "\n",
    "There's only one global Python scope per program execution."
   ]
  },
  {
   "cell_type": "markdown",
   "id": "third-vegetable",
   "metadata": {},
   "source": [
    "Q6.#What happens to variables in a local scope when the function call returns?\n",
    "\n",
    "When the execution of the function terminates (returns), the local variables are destroyed."
   ]
  },
  {
   "cell_type": "markdown",
   "id": "alternate-senegal",
   "metadata": {},
   "source": [
    "Q7.#What is the concept of a return value? Is it possible to have a return value in an expression?\n",
    "\n",
    "A return is a value that a function returns to the calling script or function when it completes its task. A return value can be any one of the four variable types: handle, integer, object, or string. The type of value your function returns depends largely on the task it performs."
   ]
  },
  {
   "cell_type": "markdown",
   "id": "competent-translation",
   "metadata": {},
   "source": [
    "Q8.#If a function does not have a return statement, what is the return value of a call to that function?\n",
    "\n",
    "If no return statement appears in a function definition, control automatically returns to the calling function after the last statement of the called function is executed. In this case, the return value of the called function is undefined."
   ]
  },
  {
   "cell_type": "markdown",
   "id": "renewable-oasis",
   "metadata": {},
   "source": [
    "Q9.#How do you make a function variable refer to the global variable?\n",
    "\n",
    "Normally, when you create a variable inside a function, that variable is local, and can only be used inside that function. To create a global variable inside a function, you can use the global keyword."
   ]
  },
  {
   "cell_type": "markdown",
   "id": "caroline-sociology",
   "metadata": {},
   "source": [
    "Q10.#What is the data type of None?\n",
    "\n",
    "The None keyword is used to define a null value, or no value at all. None is not the same as 0, False, or an empty string. None is a data type of its own (NoneType) and only None can be None."
   ]
  },
  {
   "cell_type": "markdown",
   "id": "selective-convertible",
   "metadata": {},
   "source": [
    "Q11.#What does the sentence import areallyourpetsnamederic do?\n",
    "\n",
    "That import statement imports a module named areallyourpetsnamederic. (This isn't a real Python module, by the way.)"
   ]
  },
  {
   "cell_type": "markdown",
   "id": "protective-handy",
   "metadata": {},
   "source": [
    "Q12.#If you had a bacon() feature in a spam module, what would you call it after importing spam?\n",
    "\n",
    "This function can be called with spam. bacon()."
   ]
  },
  {
   "cell_type": "markdown",
   "id": "hollywood-reflection",
   "metadata": {},
   "source": [
    "Q13.#What can you do to save a programme from crashing if it encounters an error?\n",
    "\n",
    "When it encounters an error, the control is passed to the except block, skipping the code in between. As seen in the above code, we have moved our code inside a try and except statement. Try running the program and it should throw an error message instead of crashing the program"
   ]
  },
  {
   "cell_type": "markdown",
   "id": "small-medicare",
   "metadata": {},
   "source": [
    "Q14.#What is the purpose of the try clause? What is the purpose of the except clause?\n",
    "\n",
    "The try block lets you test a block of code for errors. The except block lets you handle the error. The else block lets you execute code when there is no error. The finally block lets you execute code, regardless of the result of the try- and except blocks."
   ]
  },
  {
   "cell_type": "code",
   "execution_count": null,
   "id": "d6b77820",
   "metadata": {},
   "outputs": [],
   "source": []
  }
 ],
 "metadata": {
  "kernelspec": {
   "display_name": "Python 3",
   "language": "python",
   "name": "python3"
  },
  "language_info": {
   "codemirror_mode": {
    "name": "ipython",
    "version": 3
   },
   "file_extension": ".py",
   "mimetype": "text/x-python",
   "name": "python",
   "nbconvert_exporter": "python",
   "pygments_lexer": "ipython3",
   "version": "3.9.4"
  }
 },
 "nbformat": 4,
 "nbformat_minor": 5
}
