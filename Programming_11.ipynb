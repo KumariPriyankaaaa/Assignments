{
 "cells": [
  {
   "cell_type": "markdown",
   "id": "31accaf8",
   "metadata": {},
   "source": [
    "1.\tWrite a Python program to find words which are greater than given length k?"
   ]
  },
  {
   "cell_type": "code",
   "execution_count": 2,
   "id": "aaf97a49",
   "metadata": {},
   "outputs": [
    {
     "name": "stdout",
     "output_type": "stream",
     "text": [
      "['better']\n"
     ]
    }
   ],
   "source": [
    "# function find string greater than length k\n",
    "def string_k(k, str):\n",
    "     \n",
    "    # create the empty string\n",
    "    string = []\n",
    "     \n",
    "    # split the string where space is comes\n",
    "    text = str.split(\" \")\n",
    "     \n",
    "    # iterate the loop till every substring\n",
    "    for x in text:\n",
    "         \n",
    "        # if length of current sub string\n",
    "        # is greater than k then\n",
    "        if len(x) > k:\n",
    "             \n",
    "            # append this sub string in\n",
    "            # string list\n",
    "            string.append(x)\n",
    "             \n",
    "     # return string list\n",
    "    return string\n",
    " \n",
    " \n",
    "# Driver Program    \n",
    "k = 3\n",
    "str =\"better for you\"\n",
    "print(string_k(k, str))"
   ]
  },
  {
   "cell_type": "markdown",
   "id": "4f0f6c6e",
   "metadata": {},
   "source": [
    "2.\tWrite a Python program for removing i-th character from a string?"
   ]
  },
  {
   "cell_type": "code",
   "execution_count": 4,
   "id": "612dd111",
   "metadata": {},
   "outputs": [
    {
     "name": "stdout",
     "output_type": "stream",
     "text": [
      "betteFORyou\n"
     ]
    }
   ],
   "source": [
    "def remove(string, i):\n",
    " \n",
    "    for j in range(len(string)):\n",
    "        if j == i:\n",
    "            string = string.replace(string[i], \"\", 1)\n",
    "    return string\n",
    " \n",
    " \n",
    "# Driver Code\n",
    "if __name__ == '__main__':\n",
    " \n",
    "    string = \"betterFORyou\"\n",
    " \n",
    "    # Remove nth index element\n",
    "    i = 5\n",
    " \n",
    "    # Print the new string\n",
    "    print(remove(string, i))"
   ]
  },
  {
   "cell_type": "markdown",
   "id": "6626600f",
   "metadata": {},
   "source": [
    "3.\tWrite a Python program to split and join a string?"
   ]
  },
  {
   "cell_type": "code",
   "execution_count": 6,
   "id": "299520e1",
   "metadata": {},
   "outputs": [
    {
     "name": "stdout",
     "output_type": "stream",
     "text": [
      "['better', 'for', 'you']\n",
      "better-for-you\n"
     ]
    }
   ],
   "source": [
    "def split_string(string):\n",
    " \n",
    "    # Split the string based on space delimiter\n",
    "    list_string = string.split(' ')\n",
    "     \n",
    "    return list_string\n",
    " \n",
    "def join_string(list_string):\n",
    " \n",
    "    # Join the string based on '-' delimiter\n",
    "    string = '-'.join(list_string)\n",
    "     \n",
    "    return string\n",
    " \n",
    "# Driver Function\n",
    "if __name__ == '__main__':\n",
    "    string = 'better for you'\n",
    "     \n",
    "    # Splitting a string\n",
    "    list_string = split_string(string)\n",
    "    print(list_string)\n",
    " \n",
    "     # Join list of strings into one\n",
    "    new_string = join_string(list_string)\n",
    "    print(new_string)"
   ]
  },
  {
   "cell_type": "markdown",
   "id": "840938a7",
   "metadata": {},
   "source": [
    "4.\tWrite a Python to check if a given string is binary string or not?"
   ]
  },
  {
   "cell_type": "code",
   "execution_count": 8,
   "id": "f37279ee",
   "metadata": {},
   "outputs": [
    {
     "name": "stdout",
     "output_type": "stream",
     "text": [
      "Yes\n"
     ]
    }
   ],
   "source": [
    "def check(string):\n",
    " \n",
    "    # set function convert string\n",
    "    # into set of characters .\n",
    "    p = set(string)\n",
    " \n",
    "    # declare set of '0', '1' .\n",
    "    s = {'0', '1'}\n",
    " \n",
    "    if s == p or p == {'0'} or p == {'1'}:\n",
    "        print(\"Yes\")\n",
    "    else:\n",
    "        print(\"No\")\n",
    " \n",
    " \n",
    "# driver code\n",
    "if __name__ == \"__main__\":\n",
    " \n",
    "    string = \"101010100111\"\n",
    " \n",
    "    # function calling\n",
    "    check(string)"
   ]
  },
  {
   "cell_type": "markdown",
   "id": "dca9b51f",
   "metadata": {},
   "source": [
    "5.\tWrite a Python program to find uncommon words from two Strings?"
   ]
  },
  {
   "cell_type": "code",
   "execution_count": 9,
   "id": "0948b993",
   "metadata": {},
   "outputs": [
    {
     "name": "stdout",
     "output_type": "stream",
     "text": [
      "['Learning', 'from']\n"
     ]
    }
   ],
   "source": [
    "def UncommonWords(A, B):\n",
    " \n",
    "    # count will contain all the word counts\n",
    "    count = {}\n",
    " \n",
    "    # insert words of string A to hash\n",
    "    for word in A.split():\n",
    "        count[word] = count.get(word, 0) + 1\n",
    " \n",
    "    # insert words of string B to hash\n",
    "    for word in B.split():\n",
    "        count[word] = count.get(word, 0) + 1\n",
    " \n",
    "    # return required list of words\n",
    "    return [word for word in count if count[word] == 1]\n",
    " \n",
    " \n",
    "# Driver Code\n",
    "A = \"Geeks for Geeks\"\n",
    "B = \"Learning from Geeks for Geeks\"\n",
    " \n",
    "# Print required answer\n",
    "print(UncommonWords(A, B))"
   ]
  },
  {
   "cell_type": "markdown",
   "id": "f9aebea9",
   "metadata": {},
   "source": [
    "6.\tWrite a Python to find all duplicate characters in string?"
   ]
  },
  {
   "cell_type": "code",
   "execution_count": 10,
   "id": "bdfeb3b1",
   "metadata": {},
   "outputs": [
    {
     "name": "stdout",
     "output_type": "stream",
     "text": [
      "['e', 't', 'r', 'o']\n"
     ]
    }
   ],
   "source": [
    "def duplicate_characters(string):\n",
    "    # Create an empty dictionary\n",
    "    chars = {}\n",
    " \n",
    "    # Iterate through each character in the string\n",
    "    for char in string:\n",
    "        # If the character is not in the dictionary, add it\n",
    "        if char not in chars:\n",
    "            chars[char] = 1\n",
    "        else:\n",
    "            # If the character is already in the dictionary, increment the count\n",
    "            chars[char] += 1\n",
    " \n",
    "    # Create a list to store the duplicate characters\n",
    "    duplicates = []\n",
    " \n",
    "    # Iterate through the dictionary to find characters with count greater than 1\n",
    "    for char, count in chars.items():\n",
    "        if count > 1:\n",
    "            duplicates.append(char)\n",
    " \n",
    "    return duplicates\n",
    " \n",
    "# Test cases\n",
    "print(duplicate_characters(\"betterforyou\"))"
   ]
  },
  {
   "cell_type": "markdown",
   "id": "186dd06d",
   "metadata": {},
   "source": [
    "7.\tWrite a Python Program to check if a string contains any special character?"
   ]
  },
  {
   "cell_type": "code",
   "execution_count": 13,
   "id": "1e76e475",
   "metadata": {},
   "outputs": [
    {
     "name": "stdout",
     "output_type": "stream",
     "text": [
      "String is not accepted.\n"
     ]
    }
   ],
   "source": [
    "import re\n",
    " \n",
    "# Function checks if the string\n",
    "# contains any special character\n",
    "def run(string):\n",
    " \n",
    "    # Make own character set and pass\n",
    "    # this as argument in compile method\n",
    "    regex = re.compile('[@_!#$%^&*()<>?/\\|}{~:]')\n",
    "     \n",
    "    # Pass the string in search\n",
    "    # method of regex object.   \n",
    "    if(regex.search(string) == None):\n",
    "        print(\"String is accepted\")\n",
    "         \n",
    "    else:\n",
    "        print(\"String is not accepted.\")\n",
    "     \n",
    " \n",
    "# Driver Code\n",
    "if __name__ == '__main__' :\n",
    "     \n",
    "    # Enter the string\n",
    "    string = \"better$For$you\"\n",
    "     \n",
    "    # calling run function\n",
    "    run(string)"
   ]
  },
  {
   "cell_type": "code",
   "execution_count": null,
   "id": "9ac2160d",
   "metadata": {},
   "outputs": [],
   "source": []
  }
 ],
 "metadata": {
  "kernelspec": {
   "display_name": "Python 3",
   "language": "python",
   "name": "python3"
  },
  "language_info": {
   "codemirror_mode": {
    "name": "ipython",
    "version": 3
   },
   "file_extension": ".py",
   "mimetype": "text/x-python",
   "name": "python",
   "nbconvert_exporter": "python",
   "pygments_lexer": "ipython3",
   "version": "3.9.4"
  }
 },
 "nbformat": 4,
 "nbformat_minor": 5
}
