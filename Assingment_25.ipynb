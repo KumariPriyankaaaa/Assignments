{
 "cells": [
  {
   "cell_type": "markdown",
   "id": "8bd44281",
   "metadata": {},
   "source": [
    "#1) . What is the difference between enclosing a list comprehension in square brackets and parentheses?"
   ]
  },
  {
   "cell_type": "markdown",
   "id": "2113c269",
   "metadata": {},
   "source": [
    "Square brackets are lists while parentheses are tuples."
   ]
  },
  {
   "cell_type": "markdown",
   "id": "6ccae9c8",
   "metadata": {},
   "source": [
    "#2) What is the relationship between generators and iterators?"
   ]
  },
  {
   "cell_type": "markdown",
   "id": "8ab305c6",
   "metadata": {},
   "source": [
    "iterators are objects that can be iterated on, and generators are special functions that leverage lazy evaluation. Implementing your own iterator means you must create an __iter__() and __next__() method, whereas a generator can be implemented using the yield keyword in a Python function or comprehension."
   ]
  },
  {
   "cell_type": "markdown",
   "id": "bfd8ebf1",
   "metadata": {},
   "source": [
    "#3) What are the signs that a function is a generator function?"
   ]
  },
  {
   "cell_type": "markdown",
   "id": "d5140c5d",
   "metadata": {},
   "source": [
    "We can only tell it's a generator function by the presence of a yield statement. A yield statement turns a regular function into a generator function."
   ]
  },
  {
   "cell_type": "markdown",
   "id": "64900733",
   "metadata": {},
   "source": [
    "#4) What is the purpose of a yield statement?"
   ]
  },
  {
   "cell_type": "markdown",
   "id": "dc584301",
   "metadata": {},
   "source": [
    "The yield statement returns a generator object to the one who calls the function which contains yield, instead of simply returning a value."
   ]
  },
  {
   "cell_type": "markdown",
   "id": "2eca483b",
   "metadata": {},
   "source": [
    "#5) What is the relationship between map calls and list comprehensions? Make a comparison and contrast between the two."
   ]
  },
  {
   "cell_type": "markdown",
   "id": "ba18208c",
   "metadata": {},
   "source": [
    "List comprehension returns a list, whereas the map function returns an object of Iterable. List comprehension execution is faster than that of map function when the formula expression is huge and complex. Map function is faster than list comprehension when the formula is already defined as a function earlier"
   ]
  },
  {
   "cell_type": "code",
   "execution_count": null,
   "id": "2e841dbe",
   "metadata": {},
   "outputs": [],
   "source": []
  }
 ],
 "metadata": {
  "kernelspec": {
   "display_name": "Python 3",
   "language": "python",
   "name": "python3"
  },
  "language_info": {
   "codemirror_mode": {
    "name": "ipython",
    "version": 3
   },
   "file_extension": ".py",
   "mimetype": "text/x-python",
   "name": "python",
   "nbconvert_exporter": "python",
   "pygments_lexer": "ipython3",
   "version": "3.9.4"
  }
 },
 "nbformat": 4,
 "nbformat_minor": 5
}
