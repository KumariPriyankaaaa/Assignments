{
 "cells": [
  {
   "cell_type": "markdown",
   "id": "da1b7c70",
   "metadata": {},
   "source": [
    "1. What does an empty dictionary's code look like?\n",
    "\n",
    "#To create an empty dictionary, the dictionary should be set to {}.\n"
   ]
  },
  {
   "cell_type": "markdown",
   "id": "b0ea813d",
   "metadata": {},
   "source": [
    "2. What is the value of a dictionary value with the key 'foo' and the value 42?\n",
    "#T= {'foo': 42}\n"
   ]
  },
  {
   "cell_type": "markdown",
   "id": "db85ad78",
   "metadata": {},
   "source": [
    "3. What is the most significant distinction between a dictionary and a list?\n",
    "\n",
    "#List is a mutable type meaning that lists can be modified after they have been created. A dictionary is a key-value store. It is not ordered and it requires that the keys are hashable. It is fast for lookups by key."
   ]
  },
  {
   "cell_type": "markdown",
   "id": "44591425",
   "metadata": {},
   "source": [
    "4. What happens if you try to access spam['foo'] if spam is {'bar': 100}?\n",
    "#KeyError"
   ]
  },
  {
   "cell_type": "markdown",
   "id": "1dd98aeb",
   "metadata": {},
   "source": [
    "5. If a dictionary is stored in spam, what is the difference between the expressions 'cat' in spam and 'cat' in spam.keys()?\n",
    "#There is no difference, the expression \" 'cat' in spam \" checks whether 'cat' is a key in spam."
   ]
  },
  {
   "cell_type": "markdown",
   "id": "f557c5d0",
   "metadata": {},
   "source": [
    "6. If a dictionary is stored in spam, what is the difference between the expressions 'cat' in spam and 'cat' in spam.values()?\n",
    "#'cat' in spam checks whether'cat' exists as a key in spam. 'cat' in spam.values() checks whether 'cat' is a value in spam."
   ]
  },
  {
   "cell_type": "markdown",
   "id": "6990739b",
   "metadata": {},
   "source": [
    "7. What is a shortcut for the following code?\n",
    "if 'color' not in spam:\n",
    "spam['color'] = 'black'\n",
    "#spam.setdefault('color','black')\n"
   ]
  },
  {
   "cell_type": "markdown",
   "id": "24f916d2",
   "metadata": {},
   "source": [
    "8. How do you \"pretty print\" dictionary values using which module and function?\n",
    "#The module used is the pprint module within which we have the pprint function of the same name.\n",
    "The functions are pprint.pprint() and pprint.pformat()."
   ]
  },
  {
   "cell_type": "code",
   "execution_count": null,
   "id": "b270274b",
   "metadata": {},
   "outputs": [],
   "source": []
  }
 ],
 "metadata": {
  "kernelspec": {
   "display_name": "Python 3",
   "language": "python",
   "name": "python3"
  },
  "language_info": {
   "codemirror_mode": {
    "name": "ipython",
    "version": 3
   },
   "file_extension": ".py",
   "mimetype": "text/x-python",
   "name": "python",
   "nbconvert_exporter": "python",
   "pygments_lexer": "ipython3",
   "version": "3.9.4"
  }
 },
 "nbformat": 4,
 "nbformat_minor": 5
}
