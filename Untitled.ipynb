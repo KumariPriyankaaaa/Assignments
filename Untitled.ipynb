{
 "cells": [
  {
   "cell_type": "code",
   "execution_count": 1,
   "id": "oriented-subsection",
   "metadata": {},
   "outputs": [],
   "source": [
    "import pyfiglet"
   ]
  },
  {
   "cell_type": "code",
   "execution_count": 5,
   "id": "noted-differential",
   "metadata": {},
   "outputs": [
    {
     "name": "stdout",
     "output_type": "stream",
     "text": [
      "Enter your name:hina\n",
      "banner2-D\n",
      "Doom\n",
      "Digital\n",
      "Diamond\n",
      "epic\n",
      "choose the font style from above:epic\n",
      "         _________ _        _______ \n",
      "|\\     /|\\__   __/( (    /|(  ___  )\n",
      "| )   ( |   ) (   |  \\  ( || (   ) |\n",
      "| (___) |   | |   |   \\ | || (___) |\n",
      "|  ___  |   | |   | (\\ \\) ||  ___  |\n",
      "| (   ) |   | |   | | \\   || (   ) |\n",
      "| )   ( |___) (___| )  \\  || )   ( |\n",
      "|/     \\|\\_______/|/    )_)|/     \\|\n",
      "                                    \n",
      "\n"
     ]
    }
   ],
   "source": [
    "name = input (\"Enter your name:\")\n",
    "print(\"======================\")\n",
    "print (\"banner2-D\")\n",
    "print(\"Doom\")\n",
    "print(\"Digital\")\n",
    "print(\"Diamond\")\n",
    "print(\"epic\")\n",
    "\n",
    "font_style =input (\"choose the font style from above:\")\n",
    "\n",
    "font =pyfiglet.figlet_format(f\"{name}\",f\"{font_style}\")\n",
    "print(font)"
   ]
  },
  {
   "cell_type": "code",
   "execution_count": 1,
   "id": "thick-bishop",
   "metadata": {},
   "outputs": [],
   "source": [
    "import random\n",
    "cards=[\"spades\",\"clubs\",\"Diamond\",\"Hearts\"]\n",
    "\n",
    "ranks =[1,2,3,4,5,6,7,8,9,10,\"Jack\",\"Queen\",\"King\",\"Ace\"]\n",
    "def rand_card():\n",
    "\n",
    "    random_cards=random.choice(cards)\n",
    "    random_ranks=random.choice(ranks)\n",
    "\n",
    "    print(f\"The[{random_cards}] of [{random_ranks}]\")\n",
    "\n",
    "    rand_card()"
   ]
  },
  {
   "cell_type": "code",
   "execution_count": 1,
   "id": "vertical-genealogy",
   "metadata": {},
   "outputs": [],
   "source": [
    "import random\n",
    "cards=[\"spades\",\"clubs\",\"Diamond\",\"Hearts\"]\n",
    "ranks =[1,2,3,4,5,6,7,8,9,10,\"Jack\",\"Queen\",\"King\",\"Ace\"]\n",
    "def rand_card():\n",
    "\n",
    "    random_cards=random.choice(cards)\n",
    "    random_ranks=random.choice(ranks)\n",
    "\n",
    "    print(f\"The[{random_cards}] of [{random_ranks}]\")\n",
    "\n",
    "    rand_card()"
   ]
  },
  {
   "cell_type": "code",
   "execution_count": 3,
   "id": "musical-adaptation",
   "metadata": {},
   "outputs": [],
   "source": [
    "import qrcode\n",
    "qr=qrcode.QRCode(\n",
    "   version = 15,\n",
    "   box_size = 10,\n",
    "   border = 5)\n",
    "\n",
    "data = \"https://www.youtube.com/channel/UC7IAaSVCssEI-dNOxPlT4hg\"\n",
    "\n",
    "qr.add_data(data)\n",
    "qr.make (fit=True)\n",
    "img=qr.make_image(fit=\"black\",back_colour = \"white\")\n",
    "img.save(\"test.png\")"
   ]
  },
  {
   "cell_type": "code",
   "execution_count": null,
   "id": "molecular-beaver",
   "metadata": {},
   "outputs": [],
   "source": []
  }
 ],
 "metadata": {
  "kernelspec": {
   "display_name": "Python 3",
   "language": "python",
   "name": "python3"
  },
  "language_info": {
   "codemirror_mode": {
    "name": "ipython",
    "version": 3
   },
   "file_extension": ".py",
   "mimetype": "text/x-python",
   "name": "python",
   "nbconvert_exporter": "python",
   "pygments_lexer": "ipython3",
   "version": "3.9.4"
  }
 },
 "nbformat": 4,
 "nbformat_minor": 5
}
